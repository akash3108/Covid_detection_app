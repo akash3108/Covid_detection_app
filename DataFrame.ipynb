{
 "cells": [
  {
   "cell_type": "code",
   "execution_count": 1,
   "id": "4558c439",
   "metadata": {},
   "outputs": [],
   "source": [
    "import warnings\n",
    "warnings.filterwarnings(\"ignore\")"
   ]
  },
  {
   "cell_type": "code",
   "execution_count": 2,
   "id": "0d90569b",
   "metadata": {},
   "outputs": [],
   "source": [
    "import os\n",
    "import numpy as np\n",
    "import pandas as pd\n",
    "from tqdm import tqdm"
   ]
  },
  {
   "cell_type": "code",
   "execution_count": 3,
   "id": "37a0705d",
   "metadata": {},
   "outputs": [
    {
     "name": "stderr",
     "output_type": "stream",
     "text": [
      "100%|███████████████████████████████████████████████████████████████████████████████████| 7/7 [00:00<00:00, 773.06it/s]"
     ]
    },
    {
     "name": "stdout",
     "output_type": "stream",
     "text": [
      "Class Label: COVID, Total Samples: 1252\n",
      "Class Label: non-COVID, Total Samples: 1229\n"
     ]
    },
    {
     "name": "stderr",
     "output_type": "stream",
     "text": [
      "\n"
     ]
    }
   ],
   "source": [
    "root_path = './Dataset/SARS-COV-2/'\n",
    "\n",
    "class_dict = {\n",
    "    'non-COVID':0,\n",
    "    'COVID':1\n",
    "}\n",
    "\n",
    "rev_dict = {\n",
    "    0:'non-COVID',\n",
    "    1:'COVID'\n",
    "}\n",
    "\n",
    "image_paths = []\n",
    "image_labels = []\n",
    "\n",
    "for label in tqdm(os.listdir(root_path)):\n",
    "    if(label=='COVID' or label=='non-COVID'):\n",
    "        class_path = os.path.join(root_path, label+'/')\n",
    "        print(f'Class Label: {label}, Total Samples: {len(os.listdir(class_path))}')\n",
    "        for img in os.listdir(class_path):\n",
    "            img_path = os.path.join(class_path, img)\n",
    "            img_label = class_dict[label]\n",
    "\n",
    "            image_paths.append(img_path)\n",
    "            image_labels.append(img_label)"
   ]
  },
  {
   "cell_type": "code",
   "execution_count": 4,
   "id": "391d6b1c",
   "metadata": {},
   "outputs": [
    {
     "data": {
      "text/html": [
       "<div>\n",
       "<style scoped>\n",
       "    .dataframe tbody tr th:only-of-type {\n",
       "        vertical-align: middle;\n",
       "    }\n",
       "\n",
       "    .dataframe tbody tr th {\n",
       "        vertical-align: top;\n",
       "    }\n",
       "\n",
       "    .dataframe thead th {\n",
       "        text-align: right;\n",
       "    }\n",
       "</style>\n",
       "<table border=\"1\" class=\"dataframe\">\n",
       "  <thead>\n",
       "    <tr style=\"text-align: right;\">\n",
       "      <th></th>\n",
       "      <th>path</th>\n",
       "      <th>label</th>\n",
       "    </tr>\n",
       "  </thead>\n",
       "  <tbody>\n",
       "    <tr>\n",
       "      <th>0</th>\n",
       "      <td>./Dataset/SARS-COV-2/COVID/Covid (1).png</td>\n",
       "      <td>1</td>\n",
       "    </tr>\n",
       "    <tr>\n",
       "      <th>1</th>\n",
       "      <td>./Dataset/SARS-COV-2/COVID/Covid (10).png</td>\n",
       "      <td>1</td>\n",
       "    </tr>\n",
       "    <tr>\n",
       "      <th>2</th>\n",
       "      <td>./Dataset/SARS-COV-2/COVID/Covid (100).png</td>\n",
       "      <td>1</td>\n",
       "    </tr>\n",
       "    <tr>\n",
       "      <th>3</th>\n",
       "      <td>./Dataset/SARS-COV-2/COVID/Covid (1000).png</td>\n",
       "      <td>1</td>\n",
       "    </tr>\n",
       "    <tr>\n",
       "      <th>4</th>\n",
       "      <td>./Dataset/SARS-COV-2/COVID/Covid (1001).png</td>\n",
       "      <td>1</td>\n",
       "    </tr>\n",
       "  </tbody>\n",
       "</table>\n",
       "</div>"
      ],
      "text/plain": [
       "                                          path  label\n",
       "0     ./Dataset/SARS-COV-2/COVID/Covid (1).png      1\n",
       "1    ./Dataset/SARS-COV-2/COVID/Covid (10).png      1\n",
       "2   ./Dataset/SARS-COV-2/COVID/Covid (100).png      1\n",
       "3  ./Dataset/SARS-COV-2/COVID/Covid (1000).png      1\n",
       "4  ./Dataset/SARS-COV-2/COVID/Covid (1001).png      1"
      ]
     },
     "execution_count": 4,
     "metadata": {},
     "output_type": "execute_result"
    }
   ],
   "source": [
    "df = pd.DataFrame({'path':image_paths, 'label':image_labels})\n",
    "df.head()"
   ]
  },
  {
   "cell_type": "markdown",
   "id": "39dda51c",
   "metadata": {},
   "source": [
    "### Split Dataset"
   ]
  },
  {
   "cell_type": "code",
   "execution_count": 5,
   "id": "df7475e1",
   "metadata": {},
   "outputs": [],
   "source": [
    "from sklearn.model_selection import train_test_split"
   ]
  },
  {
   "cell_type": "code",
   "execution_count": 6,
   "id": "af519b08",
   "metadata": {},
   "outputs": [
    {
     "name": "stdout",
     "output_type": "stream",
     "text": [
      "(2232, 2) (249, 2)\n"
     ]
    }
   ],
   "source": [
    "_train_df, val_df = train_test_split(df, \n",
    "                                     test_size=0.1, \n",
    "                                     shuffle=True, \n",
    "                                     random_state=42)\n",
    "print(_train_df.shape, val_df.shape)"
   ]
  },
  {
   "cell_type": "code",
   "execution_count": 7,
   "id": "499300d5",
   "metadata": {},
   "outputs": [
    {
     "data": {
      "text/html": [
       "<div>\n",
       "<style scoped>\n",
       "    .dataframe tbody tr th:only-of-type {\n",
       "        vertical-align: middle;\n",
       "    }\n",
       "\n",
       "    .dataframe tbody tr th {\n",
       "        vertical-align: top;\n",
       "    }\n",
       "\n",
       "    .dataframe thead th {\n",
       "        text-align: right;\n",
       "    }\n",
       "</style>\n",
       "<table border=\"1\" class=\"dataframe\">\n",
       "  <thead>\n",
       "    <tr style=\"text-align: right;\">\n",
       "      <th></th>\n",
       "      <th>path</th>\n",
       "      <th>label</th>\n",
       "    </tr>\n",
       "  </thead>\n",
       "  <tbody>\n",
       "    <tr>\n",
       "      <th>254</th>\n",
       "      <td>./Dataset/SARS-COV-2/COVID/Covid (1227).png</td>\n",
       "      <td>1</td>\n",
       "    </tr>\n",
       "    <tr>\n",
       "      <th>621</th>\n",
       "      <td>./Dataset/SARS-COV-2/COVID/Covid (430).png</td>\n",
       "      <td>1</td>\n",
       "    </tr>\n",
       "    <tr>\n",
       "      <th>1730</th>\n",
       "      <td>./Dataset/SARS-COV-2/non-COVID/Non-Covid (322)...</td>\n",
       "      <td>0</td>\n",
       "    </tr>\n",
       "    <tr>\n",
       "      <th>1792</th>\n",
       "      <td>./Dataset/SARS-COV-2/non-COVID/Non-Covid (379)...</td>\n",
       "      <td>0</td>\n",
       "    </tr>\n",
       "    <tr>\n",
       "      <th>819</th>\n",
       "      <td>./Dataset/SARS-COV-2/COVID/Covid (609).png</td>\n",
       "      <td>1</td>\n",
       "    </tr>\n",
       "  </tbody>\n",
       "</table>\n",
       "</div>"
      ],
      "text/plain": [
       "                                                   path  label\n",
       "254         ./Dataset/SARS-COV-2/COVID/Covid (1227).png      1\n",
       "621          ./Dataset/SARS-COV-2/COVID/Covid (430).png      1\n",
       "1730  ./Dataset/SARS-COV-2/non-COVID/Non-Covid (322)...      0\n",
       "1792  ./Dataset/SARS-COV-2/non-COVID/Non-Covid (379)...      0\n",
       "819          ./Dataset/SARS-COV-2/COVID/Covid (609).png      1"
      ]
     },
     "execution_count": 7,
     "metadata": {},
     "output_type": "execute_result"
    }
   ],
   "source": [
    "val_df.head()"
   ]
  },
  {
   "cell_type": "code",
   "execution_count": 8,
   "id": "0c7d853a",
   "metadata": {},
   "outputs": [
    {
     "name": "stdout",
     "output_type": "stream",
     "text": [
      "(2008, 2) (224, 2)\n"
     ]
    }
   ],
   "source": [
    "train_df, test_df = train_test_split(_train_df, \n",
    "                                     test_size=0.1, \n",
    "                                     shuffle=True, \n",
    "                                     random_state=42)\n",
    "print(train_df.shape, test_df.shape)"
   ]
  },
  {
   "cell_type": "markdown",
   "id": "9e714969",
   "metadata": {},
   "source": [
    "### Save Dataframe"
   ]
  },
  {
   "cell_type": "code",
   "execution_count": 10,
   "id": "239dabfe",
   "metadata": {},
   "outputs": [],
   "source": [
    "train_df.to_csv(root_path+'train.csv', index=False)\n",
    "test_df.to_csv(root_path+'test.csv', index=False)\n",
    "val_df.to_csv(root_path+'val.csv', index=False)"
   ]
  },
  {
   "cell_type": "code",
   "execution_count": 11,
   "id": "c6d3ad22",
   "metadata": {},
   "outputs": [
    {
     "name": "stdout",
     "output_type": "stream",
     "text": [
      "<class 'pandas.core.frame.DataFrame'>\n",
      "Int64Index: 2008 entries, 1694 to 371\n",
      "Data columns (total 2 columns):\n",
      " #   Column  Non-Null Count  Dtype \n",
      "---  ------  --------------  ----- \n",
      " 0   path    2008 non-null   object\n",
      " 1   label   2008 non-null   int64 \n",
      "dtypes: int64(1), object(1)\n",
      "memory usage: 47.1+ KB\n"
     ]
    }
   ],
   "source": [
    "train_df.info()"
   ]
  },
  {
   "cell_type": "code",
   "execution_count": null,
   "id": "25bfde0c",
   "metadata": {},
   "outputs": [],
   "source": []
  }
 ],
 "metadata": {
  "kernelspec": {
   "display_name": "Python 3 (ipykernel)",
   "language": "python",
   "name": "python3"
  },
  "language_info": {
   "codemirror_mode": {
    "name": "ipython",
    "version": 3
   },
   "file_extension": ".py",
   "mimetype": "text/x-python",
   "name": "python",
   "nbconvert_exporter": "python",
   "pygments_lexer": "ipython3",
   "version": "3.9.7"
  }
 },
 "nbformat": 4,
 "nbformat_minor": 5
}
